{
 "cells": [
  {
   "cell_type": "markdown",
   "id": "96fd4643",
   "metadata": {},
   "source": [
    "Ejercicio #1\n",
    "Array aleatorio de 100 elementos y el calculo de su mediana"
   ]
  },
  {
   "cell_type": "code",
   "execution_count": 161,
   "id": "9f5ebc55",
   "metadata": {},
   "outputs": [
    {
     "name": "stdout",
     "output_type": "stream",
     "text": [
      "Requirement already satisfied: pandas in c:\\users\\k1000\\miniconda3\\lib\\site-packages (1.2.5)\n",
      "Requirement already satisfied: pytz>=2017.3 in c:\\users\\k1000\\miniconda3\\lib\\site-packages (from pandas) (2021.1)\n",
      "Requirement already satisfied: numpy>=1.16.5 in c:\\users\\k1000\\miniconda3\\lib\\site-packages (from pandas) (1.21.0)\n",
      "Requirement already satisfied: python-dateutil>=2.7.3 in c:\\users\\k1000\\miniconda3\\lib\\site-packages (from pandas) (2.8.1)\n",
      "Requirement already satisfied: six>=1.5 in c:\\users\\k1000\\miniconda3\\lib\\site-packages (from python-dateutil>=2.7.3->pandas) (1.15.0)\n",
      "Note: you may need to restart the kernel to use updated packages.\n"
     ]
    }
   ],
   "source": [
    "pip install pandas"
   ]
  },
  {
   "cell_type": "code",
   "execution_count": 166,
   "id": "bda459b4",
   "metadata": {},
   "outputs": [
    {
     "name": "stdout",
     "output_type": "stream",
     "text": [
      "Collecting openpyxl\n",
      "  Downloading openpyxl-3.0.7-py2.py3-none-any.whl (243 kB)\n",
      "Collecting et-xmlfile\n",
      "  Downloading et_xmlfile-1.1.0-py3-none-any.whl (4.7 kB)\n",
      "Installing collected packages: et-xmlfile, openpyxl\n",
      "Successfully installed et-xmlfile-1.1.0 openpyxl-3.0.7\n",
      "Note: you may need to restart the kernel to use updated packages.\n"
     ]
    }
   ],
   "source": [
    "pip install openpyxl"
   ]
  },
  {
   "cell_type": "code",
   "execution_count": 151,
   "id": "3acf1640",
   "metadata": {},
   "outputs": [],
   "source": [
    "import numpy as np\n",
    "import pandas as pd"
   ]
  },
  {
   "cell_type": "code",
   "execution_count": 204,
   "id": "2fee0f03",
   "metadata": {},
   "outputs": [
    {
     "data": {
      "text/plain": [
       "array([511, 240, 399, 686, 359, 447, 260, 113,   9,  88, 678, 590, 665,\n",
       "       241, 557, 920,  65,  41, 500, 265, 485, 199, 511, 524, 579, 419,\n",
       "       566,   4, 854, 960, 811, 857, 387, 888, 934, 921, 589, 656, 324,\n",
       "       727, 317, 302, 912, 323, 948, 151, 934, 412, 546, 740, 687, 572,\n",
       "       505, 477, 416, 532, 943, 705, 697, 177, 606, 719, 358, 619,   9,\n",
       "       173,  30,  24, 358, 310,  69, 181, 458, 561, 776, 788, 384, 808,\n",
       "       404, 854,  98, 310, 858, 118,  62, 786, 227, 983,  52, 244, 536,\n",
       "       869, 980, 444, 582, 524, 492, 241, 354, 129])"
      ]
     },
     "execution_count": 204,
     "metadata": {},
     "output_type": "execute_result"
    }
   ],
   "source": [
    "#Generando array aleatorio de 100 elementos\n",
    "Cien = np.random.randint(1000, size=100)\n",
    "Cien"
   ]
  },
  {
   "cell_type": "code",
   "execution_count": 205,
   "id": "eb7645ba",
   "metadata": {},
   "outputs": [
    {
     "name": "stdout",
     "output_type": "stream",
     "text": [
      "mediana = 496.0\n"
     ]
    }
   ],
   "source": [
    "#Calculando la mediana del array\n",
    "print('mediana =', np.median(Cien))"
   ]
  },
  {
   "cell_type": "markdown",
   "id": "bc645d32",
   "metadata": {},
   "source": [
    "Ejercicio #2 parte 1: Calculando el factorial de n numeros en un array"
   ]
  },
  {
   "cell_type": "code",
   "execution_count": 213,
   "id": "f82eda2c",
   "metadata": {},
   "outputs": [
    {
     "data": {
      "text/plain": [
       "3628800"
      ]
     },
     "execution_count": 213,
     "metadata": {},
     "output_type": "execute_result"
    }
   ],
   "source": [
    "def factorial(x):\n",
    "   farray = np.arange(1, x)\n",
    "   return farray.prod()\n",
    "factorial(11)"
   ]
  },
  {
   "cell_type": "markdown",
   "id": "d832b73e",
   "metadata": {},
   "source": [
    "Ejercicio #2 parte 2: Calculando suma de n numeros en un array"
   ]
  },
  {
   "cell_type": "code",
   "execution_count": 214,
   "id": "efbe40fb",
   "metadata": {},
   "outputs": [
    {
     "data": {
      "text/plain": [
       "5050"
      ]
     },
     "execution_count": 214,
     "metadata": {},
     "output_type": "execute_result"
    }
   ],
   "source": [
    "def suma(x):\n",
    "    sarray = np.array(range(x))\n",
    "    return sum(sarray)\n",
    "suma(101)"
   ]
  },
  {
   "cell_type": "markdown",
   "id": "0a12dec4",
   "metadata": {},
   "source": [
    "Ejercicio #3 Calcular y comparar media y mediana de los sueldos netos:\n",
    "https://sueldos.openqube.io/encuesta-sueldos-2020.02/"
   ]
  },
  {
   "cell_type": "code",
   "execution_count": 199,
   "id": "e72c6285",
   "metadata": {},
   "outputs": [],
   "source": [
    "df = pd.read_excel(\"C:/Users/k1000/Desktop/Data/SalariosOpenqube.xlsx\")\n",
    "salarios = df['Salario mensual NETO'].tolist()\n",
    "salarios_num=[]\n",
    "for i in range(len(salarios)):\n",
    "    try:\n",
    "        nr = float(salarios[i])\n",
    "        if nr is not np.nan:\n",
    "            salarios_num.append(nr)\n",
    "        else:\n",
    "            continue\n",
    "    except:\n",
    "        continue\n",
    "salarios_num = np.array(salarios_num)\n"
   ]
  },
  {
   "cell_type": "code",
   "execution_count": 212,
   "id": "0f9dcaba",
   "metadata": {},
   "outputs": [
    {
     "name": "stdout",
     "output_type": "stream",
     "text": [
      "Media = 19315670.668239187\n"
     ]
    }
   ],
   "source": [
    "print('Media =', np.mean(salarios_num))"
   ]
  },
  {
   "cell_type": "code",
   "execution_count": 211,
   "id": "39944e76",
   "metadata": {},
   "outputs": [
    {
     "name": "stdout",
     "output_type": "stream",
     "text": [
      "Mediana = 76000.0\n"
     ]
    }
   ],
   "source": [
    "print('Mediana =', np.median(salarios_num))"
   ]
  },
  {
   "cell_type": "code",
   "execution_count": null,
   "id": "5e7d4d9e",
   "metadata": {},
   "outputs": [],
   "source": []
  }
 ],
 "metadata": {
  "kernelspec": {
   "display_name": "Python 3",
   "language": "python",
   "name": "python3"
  },
  "language_info": {
   "codemirror_mode": {
    "name": "ipython",
    "version": 3
   },
   "file_extension": ".py",
   "mimetype": "text/x-python",
   "name": "python",
   "nbconvert_exporter": "python",
   "pygments_lexer": "ipython3",
   "version": "3.9.1"
  }
 },
 "nbformat": 4,
 "nbformat_minor": 5
}
